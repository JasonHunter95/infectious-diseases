{
 "cells": [
  {
   "cell_type": "code",
   "execution_count": null,
   "id": "00bc5c40",
   "metadata": {},
   "outputs": [],
   "source": [
    "import numpy as np\n",
    "import matplotlib as plt"
   ]
  },
  {
   "cell_type": "code",
   "execution_count": null,
   "id": "3ba483e8",
   "metadata": {},
   "outputs": [],
   "source": [
    "R0 = 2\n",
    "fig,ax = plt.subplots()\n",
    "draws = np.random.poisson(R0, 10000)\n",
    "bins = np.arange()\n"
   ]
  },
  {
   "cell_type": "code",
   "execution_count": null,
   "id": "c5645bf3",
   "metadata": {},
   "outputs": [],
   "source": [
    "def n_children_poisson(R0, n_draws):\n",
    "    draws = np.random.poisson(R0, n_draws)\n",
    "    total_children = np.sum(draws)\n",
    "    return total_children"
   ]
  },
  {
   "cell_type": "code",
   "execution_count": null,
   "id": "2a33e515",
   "metadata": {},
   "outputs": [],
   "source": [
    "def sample_BP(children_function, R0, n_generations):\n",
    "    z = np.zeros(n_generations, dtype=int)\n",
    "    z[0] = 1\n",
    "    for generation in np.arange(1,n_generations):\n",
    "        z[generation] = children_function(R0, z[generation - 1])\n",
    "    return z"
   ]
  },
  {
   "cell_type": "code",
   "execution_count": null,
   "id": "1588de48",
   "metadata": {},
   "outputs": [],
   "source": [
    "sample_BP(n_children_poisson, 2, 10)"
   ]
  },
  {
   "cell_type": "code",
   "execution_count": null,
   "id": "6fbb39a3",
   "metadata": {},
   "outputs": [],
   "source": []
  }
 ],
 "metadata": {
  "language_info": {
   "name": "python"
  }
 },
 "nbformat": 4,
 "nbformat_minor": 5
}
